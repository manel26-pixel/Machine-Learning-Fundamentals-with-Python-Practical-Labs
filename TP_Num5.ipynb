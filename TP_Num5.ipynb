{
 "cells": [
  {
   "cell_type": "markdown",
   "metadata": {},
   "source": [
    "# TP 5 Réseaux de neurones - Multi classification et Propagation en arrière\n",
    "Dans ce TP, nous aimerions entrainer un réseau de neurones pour la tâche de classification en utilisant l'algorithme d propagation en arrière (backpropagation).\n",
    "\n",
    "L'ensemble de données que nous allons utiliser est le même que celui utilisé durant le TP1, i.e. les images de chiffres manuscrits.\n"
   ]
  },
  {
   "cell_type": "markdown",
   "metadata": {},
   "source": [
    "# Importation des librairies necessaires au travail"
   ]
  },
  {
   "cell_type": "code",
   "execution_count": 1,
   "metadata": {},
   "outputs": [],
   "source": [
    "import numpy as np\n",
    "import matplotlib.pyplot as plt\n",
    "from numpy import random\n",
    "import cv2 "
   ]
  },
  {
   "cell_type": "markdown",
   "metadata": {},
   "source": [
    "# Lecture des fichiers de données\n",
    "Pour ce TP, nous allons lire les données à partir d'un fichier csv."
   ]
  },
  {
   "cell_type": "code",
   "execution_count": 2,
   "metadata": {},
   "outputs": [
    {
     "data": {
      "text/plain": [
       "(5000, 401)"
      ]
     },
     "execution_count": 2,
     "metadata": {},
     "output_type": "execute_result"
    }
   ],
   "source": [
    "# données\n",
    "data = np.genfromtxt('data.csv', delimiter=',', dtype=float)\n",
    "data.shape"
   ]
  },
  {
   "cell_type": "markdown",
   "metadata": {},
   "source": [
    "Dans ces données (data), les 400 premières colonnes representent les pixels de l'image (20x20), la dernière colonne represente la classe de l'image (chiffres de 0 à 9). (http://yann.lecun.com/exdb/mnist/)\n",
    "\n",
    "Chaque ligne represente un exemple de notre ensemble de données. \n",
    "\n",
    "Mettons ces données dans leus vecteurs correspondants."
   ]
  },
  {
   "cell_type": "code",
   "execution_count": 3,
   "metadata": {},
   "outputs": [],
   "source": [
    "# rajoutons l'ordonnée à l'origine theta 0\n",
    "intercept=np.ones((data.shape[0],1))\n",
    "X=np.column_stack((intercept,data[:,:-1]))\n",
    "y=data[:,-1]\n",
    "# forcer y à avoir une seule colonne\n",
    "y = y.reshape( y.shape[0], 1)"
   ]
  },
  {
   "cell_type": "code",
   "execution_count": 4,
   "metadata": {},
   "outputs": [
    {
     "name": "stdout",
     "output_type": "stream",
     "text": [
      "X (5000, 401)  y  (5000, 1)\n"
     ]
    }
   ],
   "source": [
    "print('X', X.shape ,' y ', y.shape)"
   ]
  },
  {
   "cell_type": "markdown",
   "metadata": {},
   "source": [
    "Visualisation aléatoire de quelques données"
   ]
  },
  {
   "cell_type": "code",
   "execution_count": 5,
   "metadata": {},
   "outputs": [
    {
     "data": {
      "image/png": "[encoded data removed]",
      "text/plain": [
       "<Figure size 1500x800 with 13 Axes>"
      ]
     },
     "metadata": {},
     "output_type": "display_data"
    }
   ],
   "source": [
    "plt.figure(figsize=(15,8))\n",
    "for i in range(13):\n",
    "    c = random.randint(X.shape[0])\n",
    "    a = X[c,1:].reshape((20, 20))\n",
    "    a=np.transpose(a)\n",
    "    plt.subplot(1,13,i+1)\n",
    "    plt.title('label '+ str(y[c]))\n",
    "    plt.imshow(a,cmap='gray')"
   ]
  },
  {
   "cell_type": "markdown",
   "metadata": {},
   "source": [
    "Transformer y de tel sorte à avoir un vecteur pour chaque exemple\n",
    "\n",
    "Equivalent de tocategorical"
   ]
  },
  {
   "cell_type": "code",
   "execution_count": 6,
   "metadata": {},
   "outputs": [
    {
     "data": {
      "text/plain": [
       "(5000, 10)"
      ]
     },
     "execution_count": 6,
     "metadata": {},
     "output_type": "execute_result"
    }
   ],
   "source": [
    "YY=np.zeros((y.shape[0], int(np.max(y))+1))\n",
    "YY.shape"
   ]
  },
  {
   "cell_type": "code",
   "execution_count": 7,
   "metadata": {},
   "outputs": [],
   "source": [
    "for i in range (YY.shape[0]):\n",
    "    YY[i,int(y[i])]=1"
   ]
  },
  {
   "cell_type": "markdown",
   "metadata": {},
   "source": [
    "# Réseaux de neurones\n",
    "Pour cette partie, nous choisissons une réseau simple:\n",
    "\n",
    "- une couche d'entrée avec 400 noeuds (20 x 20 pixels) + le biais\n",
    "- une couche cachée avec 25 noeuds\n",
    "- une couche de sortie avec 10 noeuds (nombre de classes)"
   ]
  },
  {
   "cell_type": "code",
   "execution_count": 8,
   "metadata": {},
   "outputs": [
    {
     "data": {
      "text/plain": [
       "(25, 401)"
      ]
     },
     "execution_count": 8,
     "metadata": {},
     "output_type": "execute_result"
    }
   ],
   "source": [
    "# poids de la couche 1\n",
    "W1 = np.genfromtxt('W1.csv', delimiter=',', dtype=float)\n",
    "W1.shape\n"
   ]
  },
  {
   "cell_type": "code",
   "execution_count": 9,
   "metadata": {},
   "outputs": [
    {
     "data": {
      "text/plain": [
       "(10, 26)"
      ]
     },
     "execution_count": 9,
     "metadata": {},
     "output_type": "execute_result"
    }
   ],
   "source": [
    "# poids de la couche 2\n",
    "W2 = np.genfromtxt('W2.csv', delimiter=',', dtype=float)\n",
    "W2.shape"
   ]
  },
  {
   "cell_type": "code",
   "execution_count": 10,
   "metadata": {},
   "outputs": [],
   "source": [
    "input_layer_size  = 400\n",
    "hidden_layer_size = 25   \n",
    "num_labels = 10"
   ]
  },
  {
   "cell_type": "markdown",
   "metadata": {},
   "source": [
    "# Calcul du coût"
   ]
  },
  {
   "cell_type": "markdown",
   "metadata": {},
   "source": [
    "# TODO  1 calcul du coût\n",
    "**Tâche 1**: Modifier la fonction computeCost afin d'obtenir un coût avec régularisation\n",
    "\n",
    "Rappelons que le coût avec régularisation est calculé comme suit:\n",
    "\n",
    "$ J(\\theta)= \\frac{1}{m} \\sum_{i=1}^m\\sum_{k=1}^K \\left[ -y_k^{(i)} \\log (h_\\theta(x^{(i)}) )_k - (1-y_k^{(i)}) \\log (1-h_\\theta(x^{(i)}) )_k \\right] + \\frac{\\lambda}{2m} \\left[ \\sum_{j=1}^{25}\\sum_{k=1}^{400} \\left( \\theta_{j,k}^{(1)} \\right)^2 +   \\sum_{j=1}^{10}\\sum_{k=1}^{25} \\left( \\theta_{j,k}^{(2)} \\right)^2 \\right] $"
   ]
  },
  {
   "cell_type": "code",
   "execution_count": 11,
   "metadata": {},
   "outputs": [],
   "source": [
    "def Sigmoid(z):\n",
    "    # pour une valeur donnée, cette fonction calculera sa sigmoid\n",
    "    return 1/(1+np.exp(-z))"
   ]
  },
  {
   "cell_type": "code",
   "execution_count": 12,
   "metadata": {},
   "outputs": [],
   "source": [
    "def computeCost(X, YY, theta1, theta2,hidden_layer_size, lambda_):\n",
    "    a1=X; \n",
    "\n",
    "    z2= np.zeros((X.shape[0],hidden_layer_size))\n",
    "    a2= np.zeros((X.shape[0],hidden_layer_size)) \n",
    "\n",
    "    intercept=np.ones((X.shape[0],1))\n",
    "    z2=np.column_stack((intercept,np.matmul(a1,np.transpose(theta1))))\n",
    "    a2=Sigmoid(z2)\n",
    "    a2[:,0]=1\n",
    "\n",
    "    z3= np.zeros((YY.shape[0],YY.shape[1]))    \n",
    "    a3= np.zeros((YY.shape[0],YY.shape[1]))  \n",
    "\n",
    "    z3=np.matmul(a2,np.transpose(theta2))\n",
    "    a3=Sigmoid(z3)\n",
    "\n",
    "    J=np.zeros((YY.shape[0],1))\n",
    "    \n",
    "    # cout sans regularisation \n",
    "    # J= (1/y.shape[0])*(np.sum(np.sum((-YY*np.log(a3))-((1-YY)*np.log(1-a3)))))\n",
    "    \n",
    "    # cout avec regularisation autre calcul \n",
    "    # J = (1 / YY.shape[0]) * (np.sum(np.sum((-YY * np.log(a3)) - ((1 - YY) * np.log(1 - a3)))))\n",
    "    # reg_term_theta1 = (lambda_ / (2 * YY.shape[0])) * np.sum(np.sum(np.power(theta1[:, 1:], 2)))\n",
    "    # reg_term_theta2 = (lambda_ / (2 * YY.shape[0])) * np.sum(np.sum(np.power(theta2[:, 1:], 2)))\n",
    "    # J += reg_term_theta1 + reg_term_theta2\n",
    "    \n",
    "    # Calculating the cost without regularization\n",
    "    # J avec regularisation \n",
    "    J = J = (1 / y.shape[0]) * (np.sum(np.sum((-YY * np.log(a3)) - ((1 - YY) * np.log(1 - a3))))) + \\\n",
    "        (lambda_ / (2 * X.shape[0])) * (np.power(theta1[:, 1:], 2).sum() + np.power(theta2[:, 1:], 2).sum())\n",
    "\n",
    "    \n",
    "    \n",
    "    return J\n",
    "\n",
    "def computeCostWR(X, YY, theta1, theta2,hidden_layer_size, ):\n",
    "    a1=X; \n",
    "\n",
    "    z2= np.zeros((X.shape[0],hidden_layer_size))\n",
    "    a2= np.zeros((X.shape[0],hidden_layer_size)) \n",
    "\n",
    "    intercept=np.ones((X.shape[0],1))\n",
    "    z2=np.column_stack((intercept,np.matmul(a1,np.transpose(theta1))))\n",
    "    a2=Sigmoid(z2)\n",
    "    a2[:,0]=1\n",
    "\n",
    "    z3= np.zeros((YY.shape[0],YY.shape[1]))    \n",
    "    a3= np.zeros((YY.shape[0],YY.shape[1]))  \n",
    "\n",
    "    z3=np.matmul(a2,np.transpose(theta2))\n",
    "    a3=Sigmoid(z3)\n",
    "\n",
    "    J=np.zeros((YY.shape[0],1))\n",
    "    \n",
    "    # cout sans regularisation \n",
    "    # J= (1/y.shape[0])*(np.sum(np.sum((-YY*np.log(a3))-((1-YY)*np.log(1-a3)))))\n",
    "    \n",
    "    # cout avec regularisation autre calcul \n",
    "    # J = (1 / YY.shape[0]) * (np.sum(np.sum((-YY * np.log(a3)) - ((1 - YY) * np.log(1 - a3)))))\n",
    "    # reg_term_theta1 = (lambda_ / (2 * YY.shape[0])) * np.sum(np.sum(np.power(theta1[:, 1:], 2)))\n",
    "    # reg_term_theta2 = (lambda_ / (2 * YY.shape[0])) * np.sum(np.sum(np.power(theta2[:, 1:], 2)))\n",
    "    # J += reg_term_theta1 + reg_term_theta2\n",
    "    \n",
    "    # Calculating the cost without regularization\n",
    "    # J avec regularisation \n",
    "    J = J = (1 / y.shape[0]) * (np.sum(np.sum((-YY * np.log(a3)) - ((1 - YY) * np.log(1 - a3))))) \n",
    "        \n",
    "    \n",
    "    \n",
    "    return J\n",
    "\n",
    "\n"
   ]
  },
  {
   "cell_type": "markdown",
   "metadata": {},
   "source": [
    "# TODO  2 calcul du gradient\n",
    "**Tâche 2**: Implémenter la fonction NNCostFunction afin de retourner:\n",
    "\n",
    "- Le coût avec régularisation\n",
    "- Le gardient du coût par rapport à chaqu'un des paramètres du réseau\n",
    "\n",
    "Rappelons le gradient de la sigmoid:\n",
    "\n",
    "$ sigmoid(z) =\\sigma(z)= \\frac{1}{1-e^{-z}}$\n",
    "\n",
    "$ \\sigma(z)^\\prime = \\sigma(z)(1-\\sigma(z)) =a(1-a)$ tel que $a$ est l'activation d'une couche donnée\n",
    "\n",
    "L'algorithme à implementer est comme suit:\n",
    "\n",
    "Pour chaque exemple de l'ensemble d'apprentissage faire\n",
    "\n",
    "Pour chaque noeud de la couche de sortie, calculer la dérivée (gradient):\n",
    "\n",
    "$\\delta_k^{(3)} = \\left( a_k^{(3)}- y_k \\right)  $\n",
    "\n",
    "Pour chaque noeud de la couche caché calculer la dérivée (gradient):\n",
    "\n",
    "$\\delta^{(2)} =  \\left(\\Theta^{(2)}\\right)^T \\delta^{(3)} \\quad .* \\quad \\sigma^\\prime\\left(z^{(2)} \\right) $\n",
    "\n",
    "Notons que l'opérateur $.*$ represente la multiplication élement par élement et non pas la multiplication matricielle\n",
    "\n",
    "Le gradient de chaque noeud et de chaque couche sera finalement:\n",
    "\n",
    "$\\Delta^{(l)} =  \\Delta^{(l)} + \\delta^{(l)} * \\left( a^{(l)} \\right)^T $\n",
    "\n",
    "Fin pour\n",
    "\n",
    "Fin pour\n",
    "\n",
    "Diviser le gradient cumulé par le nombre d'exemples:\n",
    "\n",
    "$ \\frac{\\partial J(\\Theta)} { \\partial \\Theta_{i,j)}^{(l)}} = \\frac{1}{m} \\Delta_{i,j)}^{(l)}$\n"
   ]
  },
  {
   "cell_type": "code",
   "execution_count": 13,
   "metadata": {},
   "outputs": [],
   "source": [
    "# cette fonction va retourner le cout avec regularisation et theta1 theta2  ce qui est equivalent a grad \n",
    "def NNCostFunction(X, YY, theta1, theta2,hidden_layer_size,lambda_):\n",
    "   \n",
    "    theta1_grad = np.zeros((theta1.shape[0],theta1.shape[1]))\n",
    "    theta2_grad = np.zeros((theta2.shape[0],theta2.shape[1]))\n",
    "    \n",
    "    # step 1  Preparations for Propagation en arriere \n",
    "    m =X.shape[0]\n",
    "    a1 = X\n",
    "    \n",
    "    z2 = np.dot(a1, theta1.T)\n",
    "    \n",
    "    # CALCUL a2 avec sigmoid avec l ajout du column bias des  1 \n",
    "    a2 = Sigmoid(z2)\n",
    "    a2 = np.insert(a2, 0, 1, axis=1) \n",
    "    # or directly do \n",
    "    # a2 = np.column_stack((np.ones((z2.shape[0], 1)), Sigmoid(z2))) \n",
    "    \n",
    "    z3 = np.dot(a2, theta2.T)\n",
    "    a3 = Sigmoid(z3)\n",
    "    \n",
    "    # step 2 calcul de delta \n",
    "    delta3 = a3 - YY\n",
    "    # calcul mult matricielle entre delta3 et theta2 apres le mult avec Sigmoid(z) * (1 - Sigmoid(z))\n",
    "    # ou calcul matricielle entre  delta3 et theta2 et un mult normal du resultat avec a2 * (1 - a2))[:, 1:]\n",
    "    delta2 = ((delta3 @ theta2) * a2 * (1 - a2))[:, 1:] \n",
    "    \n",
    "    # step 3 \n",
    "    # calcul du cout J avec la fonction Computecost \n",
    "    J = computeCost(X, YY, theta1, theta2, hidden_layer_size, lambda_)\n",
    "    \n",
    "    # calcul gradient sans R\n",
    "    theta2_grad += np.dot(delta3.T, a2)\n",
    "    theta1_grad += np.dot(delta2.T, a1)\n",
    "    \n",
    "    # Ajout de la regularisation \n",
    "    theta2_grad[:, 1:] += (lambda_ / m) * theta2[:, 1:]\n",
    "    theta1_grad[:, 1:] += (lambda_ / m) * theta1[:, 1:]\n",
    "\n",
    "    # diviser le gradient par le nombres d examples \n",
    "    theta2_grad /= m\n",
    "    theta1_grad /= m\n",
    "    \n",
    "    grad = [theta1_grad, theta2_grad]\n",
    "    \n",
    "    \n",
    "    return J, grad"
   ]
  },
  {
   "cell_type": "markdown",
   "metadata": {},
   "source": [
    "# TODO  3 entrainement du réseau\n",
    "**Tâche 3**: Entrainer le réseau en utilisant la descente du gradient:\n",
    "Ici il faudra reprendre l'algorithme de la descente du gradient afin de mettre à jour les paramètres du réseau\n"
   ]
  },
  {
   "cell_type": "code",
   "execution_count": 14,
   "metadata": {},
   "outputs": [
    {
     "name": "stdout",
     "output_type": "stream",
     "text": [
      "Size of theta[0]: (25, 401)\n",
      "Size of theta[1]: (10, 26)\n"
     ]
    },
    {
     "data": {
      "image/png": "[encoded data removed]",
      "text/plain": [
       "<Figure size 800x500 with 1 Axes>"
      ]
     },
     "metadata": {},
     "output_type": "display_data"
    }
   ],
   "source": [
    "# gradient descent normal one \n",
    "def gradientDescent1(X, y, theta, alpha, iterations):\n",
    "    \n",
    "    n = X.shape[0] \n",
    "        \n",
    "    costs = np.zeros(iterations)\n",
    "    theta0_h = np.zeros(iterations)\n",
    "    theta1_h = np.zeros(iterations)\n",
    "\n",
    "    for i in range(iterations):\n",
    "        \n",
    "        # calcule du predict\n",
    "        h = np.dot(X,theta)\n",
    "        \n",
    "        # calcule du gradient\n",
    "        gradient = np.dot(X.T, h - y) / n\n",
    "\n",
    "        # maj theta        \n",
    "        theta = theta - alpha * gradient\n",
    "\n",
    "        # calcule cout\n",
    "        cost = computeCost(X,y,theta)\n",
    "        # print(\"cost : %s\" % cost)\n",
    "        costs[i] = cost\n",
    "        theta0_h[i] = theta[0]\n",
    "        theta1_h[i] = theta[1]\n",
    "\n",
    "\n",
    "\n",
    "    return theta, costs, theta0_h, theta1_h\n",
    "\n",
    "# gradient descent that calculates the J and grad for our RN \n",
    "def gradientDescent(X, y, theta, alpha, iterations, hidden_layer_size, lambda_):\n",
    "    m = X.shape[0] \n",
    "        \n",
    "    costs = np.zeros(iterations)\n",
    "    theta0_h = np.zeros(iterations)\n",
    "    theta1_h = np.zeros(iterations)\n",
    "\n",
    "    for i in range(iterations):\n",
    "        \n",
    "        J, grad = NNCostFunction(X, YY, theta[0], theta[1], hidden_layer_size,lambda_)\n",
    "\n",
    "        \n",
    "        theta[0] -= alpha * grad[0]\n",
    "        theta[1] -= alpha * grad[1]\n",
    "\n",
    "        \n",
    "        costs[i] = J\n",
    "\n",
    "        \n",
    "       \n",
    "\n",
    "    return  costs\n",
    "\n",
    "\n",
    "def plot_cost_function(cost_history, iterations):\n",
    "    plt.figure(figsize=(8, 5))\n",
    "    plt.plot(np.arange(iterations), cost_history, 'r', 5)\n",
    "    plt.title(\"costs\")\n",
    "    plt.xlabel('iterations')\n",
    "    plt.ylabel('cost function')\n",
    "    # comparer le temps de traitement\n",
    "    \n",
    "    \n",
    "iterations = 1000\n",
    "alpha = 0.5\n",
    "lambda_ = 0.2\n",
    "theta = [np.random.normal(0, np.sqrt(1/212), W1.shape), np.random.normal(0, np.sqrt(1/17), W2.shape)]\n",
    "# Print the size of each element in theta\n",
    "for i, element in enumerate(theta):\n",
    "    print(f\"Size of theta[{i}]: {element.shape}\")\n",
    "    \n",
    "costs = gradientDescent(X, YY, theta, alpha, iterations ,hidden_layer_size,lambda_)\n",
    "plot_cost_function(costs, iterations)"
   ]
  },
  {
   "cell_type": "markdown",
   "metadata": {},
   "source": [
    "# TODO 4 : Régularisation\n",
    "Mettre à jour le calcul du coût en ajoutant le terme de régularisation et comparer les résultats (avec et sans régularisation)"
   ]
  },
  {
   "cell_type": "code",
   "execution_count": 15,
   "metadata": {},
   "outputs": [
    {
     "name": "stdout",
     "output_type": "stream",
     "text": [
      "5.627261729776033\n"
     ]
    }
   ],
   "source": [
    "theta = [np.random.normal(0, np.sqrt(1/212), W1.shape), np.random.normal(0, np.sqrt(1/17), W2.shape)]\n",
    "lambda_=0.0000000000001\n",
    "initcostwithR = computeCost(X, YY, theta[0], theta[1],hidden_layer_size, lambda_)\n",
    "print (initcostwithR)\n",
    "\n"
   ]
  },
  {
   "cell_type": "code",
   "execution_count": 16,
   "metadata": {},
   "outputs": [
    {
     "name": "stdout",
     "output_type": "stream",
     "text": [
      "8.222815141287327\n"
     ]
    }
   ],
   "source": [
    "theta = [np.random.normal(0, np.sqrt(1/212), W1.shape), np.random.normal(0, np.sqrt(1/17), W2.shape)]\n",
    "\n",
    "initcostwithouR = computeCostWR(X, YY, theta[0], theta[1],hidden_layer_size)\n",
    "print (initcostwithouR)"
   ]
  },
  {
   "cell_type": "markdown",
   "metadata": {},
   "source": [
    "# TODO 5 : Prédiction\n",
    "\n",
    "Appliquer une propagation en avant en utilisant les paramètres données pour prédir les classes de l'ensemble d'apprentissage.\n",
    "\n"
   ]
  },
  {
   "cell_type": "code",
   "execution_count": 17,
   "metadata": {},
   "outputs": [],
   "source": [
    "# we are gonna predict the  classes using the neural network method (with one hidden layer)\n",
    "# after retreiving the weights W1 , W2  the input layer nodes and the hidden layer nodes \n",
    "# after getting the input data \n",
    "# we use these as parameters to predict \n",
    "\n",
    "def predict (W1, W2, X):\n",
    "    \n",
    "    # appliquer une propagation en avant\n",
    "    # !--- n'oubliez pas d'appliquer la sigmoid à chaque couche afin d'avoir les probabilités ---! // calculer l'activation\n",
    "    \n",
    "    # prédire la classe en choisissant la probabilité maximale parmi les 10 noeuds de sortie\n",
    "    \n",
    "    # calcul des activation \n",
    "    h1_output = Sigmoid(np.dot(X, W1.T))\n",
    "\n",
    "    # stacking the intercept and h1_outputs (input layer computing ) and save it in h2_input \n",
    "    intercept = np.ones((X.shape[0],1))\n",
    "\n",
    "    h2_input = np.column_stack((intercept, h1_output))\n",
    "\n",
    "    # compute the h2_output using the h2_input and the data from the hidden layer \n",
    "    h2_output = Sigmoid(np.dot(h2_input, W2.T))\n",
    "\n",
    "    # predict the classes using the h2_output \n",
    "    y_pred = np.argmax(h2_output, axis=1)[..., np.newaxis]\n",
    "    \n",
    "    # some adjustments\n",
    "    y_pred = y_pred + 1\n",
    "    y_pred[y_pred==10] = 0\n",
    "\n",
    "    return y_pred"
   ]
  },
  {
   "cell_type": "code",
   "execution_count": 18,
   "metadata": {},
   "outputs": [
    {
     "data": {
      "text/plain": [
       "97.52"
      ]
     },
     "execution_count": 18,
     "metadata": {},
     "output_type": "execute_result"
    }
   ],
   "source": [
    "# calcul de precision = nombre de valeurs bien prédites (ici sur toute la base X)\n",
    "y_pred=predict(W1, W2, X)\n",
    "precision = np.mean(y==y_pred)*100\n",
    "precision"
   ]
  },
  {
   "cell_type": "markdown",
   "metadata": {},
   "source": [
    "# optionnel 1 : Vérification de l'implementation\n",
    "Comparer vos algorithmes à ceux de scikitlearn"
   ]
  },
  {
   "cell_type": "code",
   "execution_count": 19,
   "metadata": {},
   "outputs": [
    {
     "name": "stdout",
     "output_type": "stream",
     "text": [
      "Accuracy (scikit-learn): 89.22%\n",
      "Accuracy (manual): 9.98%\n"
     ]
    }
   ],
   "source": [
    "from sklearn.neural_network import MLPClassifier\n",
    "\n",
    "# Create and train the scikit-learn MLPClassifier\n",
    "clf = MLPClassifier(solver='sgd', alpha=0.01, activation='logistic', max_iter=5000,\n",
    "                    hidden_layer_sizes=(25,), random_state=42)\n",
    "clf.fit(X[:, 1:], YY)\n",
    "\n",
    "# Make predictions using scikit-learn model\n",
    "y_pred_sklearn = clf.predict(X[:, 1:])\n",
    "\n",
    "# Calculate accuracy using scikit-learn's score method\n",
    "accuracy_sklearn = clf.score(X[:, 1:], YY) * 100\n",
    "\n",
    "# Calculate accuracy manually for comparison\n",
    "accuracy_manual = np.mean(y == y_pred_sklearn) * 100\n",
    "\n",
    "print(\"Accuracy (scikit-learn): {:.2f}%\".format(accuracy_sklearn))\n",
    "print(\"Accuracy (manual): {:.2f}%\".format(accuracy_manual))\n"
   ]
  }
 ],
 "metadata": {
  "kernelspec": {
   "display_name": "Python 3 (ipykernel)",
   "language": "python",
   "name": "python3"
  },
  "language_info": {
   "codemirror_mode": {
    "name": "ipython",
    "version": 3
   },
   "file_extension": ".py",
   "mimetype": "text/x-python",
   "name": "python",
   "nbconvert_exporter": "python",
   "pygments_lexer": "ipython3",
   "version": "3.11.5"
  }
 },
 "nbformat": 4,
 "nbformat_minor": 2
}
