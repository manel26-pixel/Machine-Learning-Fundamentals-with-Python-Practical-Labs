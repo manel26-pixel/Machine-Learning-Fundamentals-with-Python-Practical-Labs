{
 "cells": [
  {
   "cell_type": "markdown",
   "metadata": {},
   "source": [
    "# TP 3 Regression linéaire\n",
    "Dans ce TP, nous aimerions prédire l'admission d'un étudiant à une specialité donnée selon ses notes dans deux matières.\n",
    "\n",
    "Pour ce faire, nous étudierons un ensemble de données avec l'admission  (y) et les notes des deux modules (X).\n",
    "\n",
    "La prédiction se fera avec l'agorithme de descente du gradient."
   ]
  },
  {
   "cell_type": "markdown",
   "metadata": {},
   "source": [
    "# Importation des librairies necessaires au travail"
   ]
  },
  {
   "cell_type": "code",
   "execution_count": 4,
   "metadata": {},
   "outputs": [],
   "source": [
    "import numpy as np\n",
    "import matplotlib.pyplot as plt\n",
    "import math\n",
    "from sklearn.model_selection import train_test_split\n",
    "from sklearn.linear_model import LogisticRegression\n",
    "from sklearn.metrics import accuracy_score"
   ]
  },
  {
   "cell_type": "markdown",
   "metadata": {},
   "source": [
    "# Lecture des fichiers de données\n",
    "Pour ce TP, nous allons lire les données à partir d'un fichier csv."
   ]
  },
  {
   "cell_type": "code",
   "execution_count": 5,
   "metadata": {},
   "outputs": [
    {
     "data": {
      "text/plain": [
       "(100, 3)"
      ]
     },
     "execution_count": 5,
     "metadata": {},
     "output_type": "execute_result"
    }
   ],
   "source": [
    "# données\n",
    "data = np.genfromtxt('data.csv', delimiter=',', dtype=np.float64)\n",
    "data.shape"
   ]
  },
  {
   "cell_type": "markdown",
   "metadata": {},
   "source": [
    "Descirption des données dans le fichier data : \n",
    "- la première colonne représente la première note\n",
    "- la deuxieme colonne la deuxième note\n",
    "- la troisième colonne représente l'admission à la specialité **(classification binaire)**\n",
    ", telle que:\n",
    "    - 1 $\\equiv$ admis \n",
    "    - 0 $\\equiv$ non admis.\n",
    "\n",
    "Chaque ligne représente un exemple de notre ensemble de données. \n",
    "\n",
    "Mettons ces données dans leurs vecteurs correspondants."
   ]
  },
  {
   "cell_type": "code",
   "execution_count": 6,
   "metadata": {},
   "outputs": [],
   "source": [
    "# rajoutons l'ordonnée à l'origine theta 0\n",
    "intercept = np.ones((data.shape[0],1))\n",
    "X = np.column_stack((intercept,data[:,0:2]))\n",
    "y = data[:, 2]"
   ]
  },
  {
   "cell_type": "code",
   "execution_count": 7,
   "metadata": {},
   "outputs": [
    {
     "name": "stdout",
     "output_type": "stream",
     "text": [
      "X: (100, 3)  y:  (100,)\n"
     ]
    }
   ],
   "source": [
    "print('X:', X.shape ,' y: ', y.shape)"
   ]
  },
  {
   "cell_type": "markdown",
   "metadata": {},
   "source": [
    "# Descente du Gradient : Préparation des fonctions"
   ]
  },
  {
   "cell_type": "markdown",
   "metadata": {},
   "source": [
    "##### 0 - Fonction logistique (Sigmoid)"
   ]
  },
  {
   "cell_type": "code",
   "execution_count": 8,
   "metadata": {},
   "outputs": [],
   "source": [
    "# En utilisant l'exponentiel de numpy \n",
    "def Sigmoid(z):\n",
    "    return 1/(1+ np.exp(-z))\n",
    "\n",
    "# En utilisant l'exponentiel classique de math\n",
    "def sigmoid(z):\n",
    "    return 1 / (1 + math.exp(-z))"
   ]
  },
  {
   "cell_type": "markdown",
   "metadata": {},
   "source": [
    "#### 1- Calcul du coût\n",
    "\n",
    "Cette fonction servira à calculer le coût $J(\\theta_0,\\theta_1)$:\n",
    "\n",
    "$$\n",
    "    J(\\theta) = \\frac{1}{n} \\sum_{i=1}^{n} Cout(h_\\theta(x_i) - y_i)\n",
    "$$\n",
    "\n",
    "\n",
    "sachant :\n",
    "\n",
    "$ -\\log(h_\\theta(x)) $ si y=1\n",
    "\n",
    "$ -\\log(1 - h_\\theta(x)) $ si y=0\n",
    "\n",
    "\n",
    "La fonction coût devient :\n",
    "\n",
    "$$\n",
    "    J(\\theta) = -\\frac{1}{n} \\sum_{i=1}^{n} [y_i \\log(h_\\theta(x_i)) + (1 - y_i) \\log(1 - h_\\theta(x_i))]\n",
    "$$\n",
    "\n",
    "\n",
    "avec $h_\\theta(x_i)$ :\n",
    "\n",
    "$$\n",
    "    h_\\theta(x_i) =  g(\\theta^T X) = \\frac{1}{1+e^{(-\\theta^T X)}} \n",
    "$$\n",
    "\n"
   ]
  },
  {
   "cell_type": "code",
   "execution_count": 9,
   "metadata": {},
   "outputs": [],
   "source": [
    "def computeCost(X, y, theta):\n",
    "    n = X.shape[0]\n",
    "    h = Sigmoid(np.dot(X, theta))\n",
    "    return -1 * (np.sum(np.dot(y.T, np.log(h)) + np.dot((1-y),np.log(1-h))) /(n))\n",
    "\n",
    "def computeCostnovect(X, y, theta):\n",
    "    \n",
    "    n = len(y)  \n",
    "    J = 0\n",
    "    \n",
    "    for i in range(n):\n",
    "        # calcule de h en utilisant l'equation : z=theta0 + theta1i*Xi....\n",
    "        z = sum(X[i][j] * theta[j] for j in range(len(theta)))\n",
    "        # Appel de la fonction sigmoid \n",
    "        h = sigmoid(z)\n",
    "        # calcul cout \n",
    "        J += -y[i] * math.log(h) - (1 - y[i]) * math.log(1 - h)\n",
    "    J /= n\n",
    "    return J"
   ]
  },
  {
   "cell_type": "markdown",
   "metadata": {},
   "source": [
    "#### 2- Fonction de la descente du gradient\n",
    "\n",
    "Cette fonction mettra à jour les paramètres $\\theta_0,\\theta_1$ jusqu'à convergence: atteinte du nombre d'itérations max, ou dérivée assez petite."
   ]
  },
  {
   "cell_type": "code",
   "execution_count": 10,
   "metadata": {},
   "outputs": [],
   "source": [
    "def gradientDescent(X, y, theta, alpha, iterations):    \n",
    "    n = X.shape[0] \n",
    "        \n",
    "    costs = np.zeros(iterations)\n",
    "\n",
    "    for i in range(iterations):\n",
    "        \n",
    "        # calcule de la prediction\n",
    "        z = np.dot(X, theta)\n",
    "        h = Sigmoid(z)\n",
    "        \n",
    "        # calcule du gradient\n",
    "        gradient = np.dot(X.T, (h - np.reshape(y, h.shape))) / n\n",
    "\n",
    "        # maj theta        \n",
    "        theta = theta - alpha * gradient\n",
    "\n",
    "        # calcule cout\n",
    "        cost = computeCost(X,y,theta)\n",
    "        # print(\"cost : %s\" % cost)\n",
    "        costs[i] = cost\n",
    "    return theta, costs"
   ]
  },
  {
   "cell_type": "markdown",
   "metadata": {},
   "source": [
    "# Descente du Gradient : Appel des fonctions"
   ]
  },
  {
   "cell_type": "markdown",
   "metadata": {},
   "source": [
    "Initialisation de $\\theta_0$ et $\\theta_1$"
   ]
  },
  {
   "cell_type": "code",
   "execution_count": 11,
   "metadata": {},
   "outputs": [
    {
     "data": {
      "text/plain": [
       "array([[0.],\n",
       "       [0.],\n",
       "       [0.]])"
      ]
     },
     "execution_count": 11,
     "metadata": {},
     "output_type": "execute_result"
    }
   ],
   "source": [
    "n=X.shape[1]\n",
    "theta = np.zeros((n,1))\n",
    "theta"
   ]
  },
  {
   "cell_type": "markdown",
   "metadata": {},
   "source": [
    "Calculer le cout initial"
   ]
  },
  {
   "cell_type": "code",
   "execution_count": 12,
   "metadata": {},
   "outputs": [
    {
     "name": "stdout",
     "output_type": "stream",
     "text": [
      "Initial Cost: 0.6931471805599452\n"
     ]
    }
   ],
   "source": [
    "initialCost=computeCost(X, y, theta)\n",
    "print(\"Initial Cost:\", initialCost)"
   ]
  },
  {
   "cell_type": "markdown",
   "metadata": {},
   "source": [
    "Appel des la fonction de calcul du gradient"
   ]
  },
  {
   "cell_type": "code",
   "execution_count": 21,
   "metadata": {},
   "outputs": [
    {
     "name": "stdout",
     "output_type": "stream",
     "text": [
      "[[-21.82851986]\n",
      " [  0.89795056]\n",
      " [  0.87246235]]\n"
     ]
    },
    {
     "data": {
      "image/png": "[encoded data removed]",
      "text/plain": [
       "<Figure size 640x480 with 1 Axes>"
      ]
     },
     "metadata": {},
     "output_type": "display_data"
    }
   ],
   "source": [
    "# paramètres\n",
    "iterations = 200000\n",
    "alpha = 0.0025\n",
    "# Appel\n",
    "theta, costs = gradientDescent(X, y, theta, alpha, iterations)\n",
    "print(theta)\n",
    "\n",
    "plt.plot(np.arange(iterations), costs, 'r', 5)\n",
    "plt.xlabel('iterations')\n",
    "plt.ylabel('cost function')\n",
    "plt.show()"
   ]
  },
  {
   "cell_type": "markdown",
   "metadata": {},
   "source": [
    "Traçage de la fonction du coût"
   ]
  },
  {
   "cell_type": "markdown",
   "metadata": {},
   "source": [
    "Notons que $\\theta^T  x$ est équivalent à $X  \\theta $ où $X= \\begin{pmatrix}\n",
    "..(x^{(1)})^T..\\\\\n",
    "..(x^{(2)})^T..\\\\\n",
    ".\\\\\n",
    ".\\\\\n",
    ".\\\\\n",
    "..(x^{(m)})^T..\n",
    "\\end{pmatrix} $"
   ]
  },
  {
   "cell_type": "markdown",
   "metadata": {},
   "source": [
    "# Dessin de la limite de decision (Descision Boundary)\n",
    "Dans cette partie, nous aimerions dessiner la ligne separatrice d nos données"
   ]
  },
  {
   "cell_type": "code",
   "execution_count": 22,
   "metadata": {},
   "outputs": [],
   "source": [
    "def drawLine():\n",
    "    x1_values = (np.min(X[:, 1]),np.max(X[:, 1]))\n",
    "    x2_values = (-theta[0] - theta[1]*x1_values) / theta[2]\n",
    "    plt.plot(x1_values, x2_values, label='Decision Boundary', color='red')"
   ]
  },
  {
   "cell_type": "markdown",
   "metadata": {},
   "source": [
    "# Affichage \n",
    "Graphe representant les acceptations selon les caracteristiques"
   ]
  },
  {
   "cell_type": "code",
   "execution_count": 23,
   "metadata": {},
   "outputs": [
    {
     "data": {
      "image/png": "[encoded data removed]",
      "text/plain": [
       "<Figure size 640x480 with 1 Axes>"
      ]
     },
     "metadata": {},
     "output_type": "display_data"
    }
   ],
   "source": [
    "plt.scatter(X[np.where(y==1),1],X[np.where(y==1),2], label=\"admis\",marker ='o')\n",
    "plt.scatter(X[np.where(y==0),1],X[np.where(y==0),2], label=\"non admis\",marker ='x')\n",
    "\n",
    "drawLine()\n",
    "\n",
    "plt.xlabel('Note module 1')\n",
    "plt.ylabel('Note module 2')\n",
    "plt.legend()\n",
    "plt.show()"
   ]
  },
  {
   "cell_type": "markdown",
   "metadata": {},
   "source": [
    "Prédire des valeurs de y"
   ]
  },
  {
   "cell_type": "code",
   "execution_count": 25,
   "metadata": {},
   "outputs": [
    {
     "name": "stdout",
     "output_type": "stream",
     "text": [
      "[0.74741923]\n"
     ]
    },
    {
     "data": {
      "text/plain": [
       "array([1.08489519])"
      ]
     },
     "execution_count": 25,
     "metadata": {},
     "output_type": "execute_result"
    }
   ],
   "source": [
    "note1 = 9\n",
    "note2 = 17\n",
    "prediction_feature = np.array([1, note1, note2])\n",
    "prediction_Imple1 = Sigmoid(np.dot(prediction_feature, theta))\n",
    "print (prediction_Imple1)\n",
    "# on peut définir un seuil: 0,5. Si la valeur de la prediction est au dessus de la valeur l'etudiant est admis sinon il est ajourné \n",
    "\n",
    "# autre facon de faire la prediction \n",
    "predict = np.matmul([1,9, 17],theta)\n",
    "predict"
   ]
  },
  {
   "cell_type": "markdown",
   "metadata": {},
   "source": [
    "# Vérification de l'implementation\n",
    "Comparer vos algorithmes à ceux de scikitlearn"
   ]
  },
  {
   "cell_type": "code",
   "execution_count": 26,
   "metadata": {},
   "outputs": [
    {
     "name": "stdout",
     "output_type": "stream",
     "text": [
      "[1.]\n"
     ]
    },
    {
     "data": {
      "image/png": "[encoded data removed]",
      "text/plain": [
       "<Figure size 768x576 with 1 Axes>"
      ]
     },
     "metadata": {},
     "output_type": "display_data"
    },
    {
     "name": "stdout",
     "output_type": "stream",
     "text": [
      "Accuracy for implemented logistic regression: 0.65\n",
      "Accuracy for scikit-learn logistic regression: 0.85\n"
     ]
    }
   ],
   "source": [
    "# model de la regression logistique \n",
    "model = LogisticRegression()\n",
    "\n",
    "# fit the model \n",
    "model.fit(X, y)\n",
    "\n",
    "# prediction pour les notes 9 et 17 \n",
    "predictionSklearn = model.predict([[1,9,17]])\n",
    "print(predictionSklearn)\n",
    "\n",
    "# decision boundary \n",
    "x_min, x_max = X[:, 1].min() - 1, X[:, 1].max() + 1\n",
    "y_min, y_max = X[:, 2].min() - 1, X[:, 2].max() + 1\n",
    "xx, yy = np.meshgrid(np.arange(x_min, x_max, 0.1),\n",
    "                     np.arange(y_min, y_max, 0.1))\n",
    "Z = model.predict(np.c_[np.ones((xx.ravel().shape[0], 1)), xx.ravel(), yy.ravel()])\n",
    "Z = Z.reshape(xx.shape)\n",
    "\n",
    "# plotting avec sklearn  \n",
    "plt.figure(dpi=120)\n",
    "plt.gca().set_facecolor('white')\n",
    "\n",
    "plt.contourf(xx, yy, Z, alpha=0.3, colors=['white', 'red'])\n",
    "\n",
    "\n",
    "plt.scatter(X[y == 1, 1], X[y == 1, 2], label=\"Admis\", marker='o')\n",
    "plt.scatter(X[y == 0, 1], X[y == 0, 2], label=\"Non admis\", marker='x')\n",
    "\n",
    "\n",
    "plt.xlabel('Note module 1')\n",
    "plt.ylabel('Note module 2')\n",
    "plt.title('Decision Boundary')\n",
    "plt.legend()\n",
    "plt.show()\n",
    "\n",
    "\n",
    "# partitionnement des données pour la comparaison entre la version implementée et celle de sklearn \n",
    "X_train, X_test, y_train, y_test = train_test_split(X, y, test_size=0.2, random_state=42)\n",
    "\n",
    "\n",
    "# version implementée\n",
    "iterations = 13000\n",
    "alpha = 0.001\n",
    "theta_initial = np.zeros((X_train.shape[1], 1))\n",
    "theta_implemented, costs_implemented = gradientDescent(X_train, y_train, theta_initial, alpha, iterations)\n",
    "\n",
    "# prediction avec la version implementée \n",
    "predictions_implemented = Sigmoid(np.dot(X_test, theta_implemented))\n",
    "predictions_implemented = (predictions_implemented >= 0.5).astype(int)\n",
    "\n",
    "# calcule de la pression  \n",
    "accuracy_implemented = accuracy_score(y_test, predictions_implemented)\n",
    "print(\"Accuracy for implemented logistic regression:\", accuracy_implemented)\n",
    "\n",
    "\n",
    "# prediction avec sklearn\n",
    "predictions_sklearn = model.predict(X_test)\n",
    "\n",
    "# calcule de la pression\n",
    "accuracy_sklearn = accuracy_score(y_test, predictions_sklearn)\n",
    "print(\"Accuracy for scikit-learn logistic regression:\", accuracy_sklearn)"
   ]
  },
  {
   "cell_type": "markdown",
   "metadata": {},
   "source": [
    "# Renforcement d'apprentissage\n",
    "Mettre ici toute idée qui pourrait renforcer votre apprentissage"
   ]
  },
  {
   "cell_type": "code",
   "execution_count": 15,
   "metadata": {},
   "outputs": [],
   "source": [
    "# ......................Utilisation de regularisation................................\n",
    "# Pour renforcer notre apprentissage on peut utiliser la regularisation \n",
    "# changement de la function de coût\n",
    "# On choisit la regularisation L1 ou L2 \n",
    "\n",
    "def computeCostWithRegularization(X, y, theta, lambda_, regularization='L2'):\n",
    "    n = X.shape[0]\n",
    "    h = Sigmoid(np.dot(X, theta))\n",
    "    \n",
    "    # calcule coût sans regularisation\n",
    "    cost = -1 * (np.sum(np.dot(y.T, np.log(h)) + np.dot((1-y), np.log(1-h))) / n)\n",
    "    \n",
    "    # pour la régularisation L1, cela implique d'ajouter des termes de pénalité à la fonction de coût\n",
    "    # puis multipliez-les sur les paramètres de régularisation (λ) pour contrôler la force de régularisation.\n",
    "    if regularization == 'L1':\n",
    "        regularization_term = (lambda_ / n) * np.sum(np.abs(theta))\n",
    "    \n",
    "    # pour L2 le terme de pénalité est la somme des carrés des coefficients (θ)\n",
    "    # ils sont multipliés par la moitié du carré du paramètre de régularisation (λ).\n",
    "    elif regularization == 'L2':\n",
    "        regularization_term = (lambda_ / (2 * n)) * np.sum(theta[1:]**2) \n",
    "    else:\n",
    "        raise ValueError(\"Regularization type must be 'L1' or 'L2'\")\n",
    "    \n",
    "    cost += regularization_term\n",
    "    return cost\n",
    "\n",
    "# parameteres pour calculer le cout initial \n",
    "n=X.shape[1]\n",
    "thetaRegularization = np.zeros((n,1))\n",
    "# valeur de (λ).\n",
    "lambda_=0.1\n",
    "\n",
    "\n",
    "#....................................Autres techniques................................................\n",
    "# 1. Explorer les données et définir d'autres feautures qui peuvent aider dans la prediction \n",
    "# 2. Utilisation des metriques lors des implementations et amélioration pour avoir de meilleurs résultats \n",
    "# 3. Utilisation de la Cross-validation:\n",
    "    # diviser notre ensemble de données en plusieurs sous-ensembles (folds)\n",
    "    # entraîner le modèle sur certains folds tout en l'évaluant sur le fold restant. \n",
    "    # répéter ce processus plusieurs fois, chaque fold servira comme ensemble de validation exactement une fois.\n",
    "# 4. Optimisation du code a l'aide d'une fonction prédefinie pouvant faciliter l'implementation de la descente du gradient \n",
    "    # Stochastic Gradient Descent (SGD); Mini-Batch Gradient Descent...."
   ]
  }
 ],
 "metadata": {
  "kernelspec": {
   "display_name": "Python 3 (ipykernel)",
   "language": "python",
   "name": "python3"
  },
  "language_info": {
   "codemirror_mode": {
    "name": "ipython",
    "version": 3
   },
   "file_extension": ".py",
   "mimetype": "text/x-python",
   "name": "python",
   "nbconvert_exporter": "python",
   "pygments_lexer": "ipython3",
   "version": "3.11.7"
  }
 },
 "nbformat": 4,
 "nbformat_minor": 2
}
