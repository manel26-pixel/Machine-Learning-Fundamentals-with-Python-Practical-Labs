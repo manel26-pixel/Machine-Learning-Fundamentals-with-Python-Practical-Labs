{
 "cells": [
  {
   "cell_type": "markdown",
   "metadata": {},
   "source": [
    "# TP 4 Réseaux de neurones - Multi classification et Propagation en avant\n",
    "Dans ce TP, nous aimerions faire une classification multiclasse. Pour ce faire, nous allons comparer entre une classification utilisant la regression logistique, et une classification en utilisant les réseaux de neurones.\n",
    "\n",
    "L'ensemble de données que nous allons utiliser est le même que celui utilisé durant le TP1, i.e. les images de chiffres manuscrits.\n"
   ]
  },
  {
   "cell_type": "markdown",
   "metadata": {},
   "source": [
    "# Importation des librairies necessaires au travail"
   ]
  },
  {
   "cell_type": "code",
   "execution_count": 1,
   "metadata": {},
   "outputs": [],
   "source": [
    "# Libraries for implemented code \n",
    "import numpy as np\n",
    "import matplotlib.pyplot as plt\n",
    "from numpy import random\n",
    "import cv2 \n",
    "\n",
    "# Libraries for the Sklearn \n",
    "from sklearn.linear_model import LogisticRegression"
   ]
  },
  {
   "cell_type": "markdown",
   "metadata": {},
   "source": [
    "# Lecture des fichiers de données\n",
    "Pour ce TP, nous allons lire les données à partir d'un fichier csv."
   ]
  },
  {
   "cell_type": "code",
   "execution_count": 2,
   "metadata": {
    "scrolled": true
   },
   "outputs": [
    {
     "data": {
      "text/plain": [
       "(5000, 401)"
      ]
     },
     "execution_count": 2,
     "metadata": {},
     "output_type": "execute_result"
    }
   ],
   "source": [
    "# données\n",
    "data = np.genfromtxt('data.csv', delimiter=',', dtype=float)\n",
    "data.shape"
   ]
  },
  {
   "cell_type": "markdown",
   "metadata": {},
   "source": [
    "Dans ces données (data), les 400 premières colonnes representent les pixels de l'image (20x20), la dernière colonne represente la classe de l'image (chiffres de 0 à 9). (http://yann.lecun.com/exdb/mnist/)\n",
    "\n",
    "Chaque ligne represente un exemple de notre ensemble de données. \n",
    "\n",
    "Mettons ces données dans leus vecteurs correspondants.`"
   ]
  },
  {
   "cell_type": "code",
   "execution_count": 3,
   "metadata": {},
   "outputs": [],
   "source": [
    "# rajoutons l'ordonnée à l'origine theta 0\n",
    "intercept=np.ones((data.shape[0],1))\n",
    "X=np.column_stack((intercept,data[:,:-1]))\n",
    "y=data[:,-1]\n",
    "\n",
    "# forcer y à avoir une seule colonne\n",
    "y = y.reshape( y.shape[0], 1)"
   ]
  },
  {
   "cell_type": "code",
   "execution_count": 4,
   "metadata": {},
   "outputs": [
    {
     "name": "stdout",
     "output_type": "stream",
     "text": [
      "X (5000, 401)  y  (5000, 1)\n"
     ]
    }
   ],
   "source": [
    "print('X', X.shape ,' y ', y.shape)"
   ]
  },
  {
   "cell_type": "markdown",
   "metadata": {},
   "source": [
    "Visualisation aléatoire de quelques données"
   ]
  },
  {
   "cell_type": "code",
   "execution_count": 5,
   "metadata": {},
   "outputs": [
    {
     "data": {
      "image/png": "[encoded data removed]",
      "text/plain": [
       "<Figure size 1500x800 with 13 Axes>"
      ]
     },
     "metadata": {},
     "output_type": "display_data"
    }
   ],
   "source": [
    "# display de 13 figure avec shape 20 20 \n",
    "\n",
    "plt.figure(figsize=(15,8))\n",
    "for i in range(13):\n",
    "    c = random.randint(X.shape[0])\n",
    "    a = X[c,1:].reshape((20, 20))\n",
    "    a=np.transpose(a)\n",
    "    plt.subplot(1,13,i+1)\n",
    "    plt.title('label '+ str(y[c]))\n",
    "    plt.imshow(a,cmap='gray')"
   ]
  },
  {
   "cell_type": "markdown",
   "metadata": {},
   "source": [
    "# Partie 1, régression logistique\n",
    "Dans cette partie, nous aimerions utiliser la régression logistique pour classifier nos images\n",
    "\n",
    "Rappelons que la régression logistique nous donne la probabilité d'appartenance (oui ou non) à la classe 1 (elle permet une classification binaire).\n",
    "\n",
    "Pour étendre la régression logistique à une multi-classification, nous allons utiliser une stratégie 1 contre tous. (OvR)\n",
    "\n",
    "Nos paramètres $\\theta$ seront donc une matrice avec un nombre de lignes égale au nombre de classes, et avec un nombre de colones égale au nombre des caractéristiques + 1 (chaque ligne de la matrice $\\theta$ correspond aux paramètres d'un classifieur.\n",
    "\n"
   ]
  },
  {
   "cell_type": "markdown",
   "metadata": {},
   "source": [
    "# Pour l'application de la régularisation sur la régression logistique, cela va donner :\n",
    "\n",
    "$$\n",
    "    J(\\theta) = -\\frac{1}{n} \\sum_{i=1}^{n} [y_i \\log(h_\\theta(x_i)) + (1 - y_i) \\log(1 - h_\\theta(x_i))] +\\frac{\\lambda}{2n} \\sum_{j=1}^{m} \\theta^2_j\n",
    "$$\n",
    "\n",
    "# sachant que :\n",
    "\n",
    "\n",
    "n = nombre d'exemples dans l'ensemble de données\n",
    "\n",
    "\n",
    "\n",
    "m = nombre de caractéristiques\n",
    "\n",
    "\n",
    "\n",
    "xi =vecteur de caractéristiques de l'exemple i\n",
    "\n",
    "\n",
    "\n",
    "yi = classe cible de l'exemple  i\n",
    "\n",
    "\n",
    "\n",
    "hheta(xi) = résultat de la fonction sigmoïde pour l'exemple i et les paramètres theta\n",
    "\n",
    "\n",
    "\n",
    "lambda = paramètre de régularisation\n",
    "\n",
    "\n",
    "\n",
    "theta_j = paramètre \n"
   ]
  },
  {
   "cell_type": "code",
   "execution_count": 6,
   "metadata": {},
   "outputs": [],
   "source": [
    "# fonction sigmoid \n",
    "def Sigmoid(z):\n",
    "    return 1/(1+ np.exp(-z))\n",
    "\n",
    "\n",
    "# fonction pour calcul du cout \n",
    "# appliquer la loi \n",
    "def lrCostFunction (X, y, initial_theta, alpha, MaxIter,lambda_):\n",
    "    n = X.shape[0]\n",
    "    theta = np.array(initial_theta, copy=True)\n",
    "    costs = np.zeros(MaxIter)\n",
    "    \n",
    "    for i in range(MaxIter):\n",
    "        z = np.dot(X, theta)\n",
    "        h = Sigmoid(z)\n",
    "        cost = -1 * (np.sum(np.dot(y.T, np.log(h)) + np.dot((1-y).T, np.log(1-h))) / (n)) + (lambda_*(np.sum(np.square(theta[1:]))) / (2*n))\n",
    "        costs[i] = cost\n",
    "        gradient = np.dot(X.T, (h - np.reshape(y, h.shape))) / n\n",
    "        gradient[1:] = gradient[1:] + (lambda_/n) * theta[1:]\n",
    "        theta = theta - alpha * gradient \n",
    "    return theta"
   ]
  },
  {
   "cell_type": "code",
   "execution_count": 7,
   "metadata": {},
   "outputs": [],
   "source": [
    "def predictOnveVsAll (all_theta, X):\n",
    "    # compute the probabilities for each class \n",
    "    probs = Sigmoid(X.dot(all_theta.T))\n",
    "    \n",
    "    # find the class with highest value for each sample  \n",
    "    y_pred = np.argmax(probs, axis=1)\n",
    "    \n",
    "    # reshaping \n",
    "    return y_pred.reshape((X.shape[0],1))"
   ]
  },
  {
   "cell_type": "code",
   "execution_count": 8,
   "metadata": {},
   "outputs": [
    {
     "name": "stdout",
     "output_type": "stream",
     "text": [
      "[0. 1. 2. 3. 4. 5. 6. 7. 8. 9.]\n",
      "[[0.]\n",
      " [0.]\n",
      " [0.]\n",
      " ...\n",
      " [9.]\n",
      " [9.]\n",
      " [9.]]\n"
     ]
    },
    {
     "data": {
      "text/plain": [
       "(10, 401)"
      ]
     },
     "execution_count": 8,
     "metadata": {},
     "output_type": "execute_result"
    }
   ],
   "source": [
    "# obtain unique classes \n",
    "classes= np.unique(y)\n",
    "print(classes)\n",
    "print(y)\n",
    "\n",
    "# the number of classes using the size of classes  \n",
    "number_classes=classes.shape[0]\n",
    "\n",
    "# storing the number of classes and the features \n",
    "all_theta = np.zeros((number_classes, X.shape[1]));\n",
    "all_theta.shape"
   ]
  },
  {
   "cell_type": "code",
   "execution_count": 19,
   "metadata": {},
   "outputs": [
    {
     "name": "stdout",
     "output_type": "stream",
     "text": [
      "(401, 1)\n"
     ]
    }
   ],
   "source": [
    "MaxIter= 1000\n",
    "\n",
    "# we need to find the best lambda \n",
    "lambda_= 0.01\n",
    "alpha = 0.01\n",
    "# initial_theta pour chaque classifieur\n",
    "initial_theta=np.zeros((X.shape[1], 1))\n",
    "\n",
    "for i in range (number_classes):\n",
    "     # appel pour chaque classifieur\n",
    "    theta = lrCostFunction(X,(y==classes[i]).astype(int),initial_theta,alpha, MaxIter,lambda_);\n",
    "    all_theta[i,:]=theta.reshape((theta.shape[0],));\n",
    "    \n",
    "print(theta.shape)"
   ]
  },
  {
   "cell_type": "code",
   "execution_count": 20,
   "metadata": {},
   "outputs": [],
   "source": [
    "# predict using the implemented function of each class vs the rest of the classes \n",
    "y_pred = predictOnveVsAll(all_theta, X);"
   ]
  },
  {
   "cell_type": "markdown",
   "metadata": {},
   "source": [
    "# Qualité du classifieur RL\n",
    "\n",
    "Prédire des valeurs de y\n",
    "\n",
    "Ici il serait interessant de calculer la précision de notre classifieur\n",
    "\n",
    "Essayons de calculer ça avec \n",
    "\n",
    "moyenne(y==y-pred) * 100\n",
    "\n",
    "Ceci donnera un pourcentage de precision"
   ]
  },
  {
   "cell_type": "code",
   "execution_count": 21,
   "metadata": {},
   "outputs": [
    {
     "data": {
      "text/plain": [
       "84.16"
      ]
     },
     "execution_count": 21,
     "metadata": {},
     "output_type": "execute_result"
    }
   ],
   "source": [
    "# accuracy of the results \n",
    "precision = np.mean(y_pred==y)*100\n",
    "precision\n",
    "\n"
   ]
  },
  {
   "cell_type": "markdown",
   "metadata": {},
   "source": [
    "# Dessin de la limite de decision (Descision Boundary)\n",
    "Dans cette partie, nous aimerions dessiner la ligne separatrice d nos données"
   ]
  },
  {
   "cell_type": "code",
   "execution_count": 12,
   "metadata": {},
   "outputs": [
    {
     "data": {
      "image/png": "[encoded data removed]",
      "text/plain": [
       "<Figure size 800x600 with 1 Axes>"
      ]
     },
     "metadata": {},
     "output_type": "display_data"
    }
   ],
   "source": [
    "# do this later , how to plot using features ask teacher \n",
    "# Extract features (pixels) and labels (classes) from data\n",
    "X_pixels = data[:, :-1]  \n",
    "y_class = data[:, -1]    \n",
    "\n",
    "# Filter data for class 0 and the rest\n",
    "X_class_0 = X_pixels[y_class == 0]\n",
    "X_rest = X_pixels[y_class != 0]\n",
    "\n",
    "# Plot class 0 versus the rest\n",
    "plt.figure(figsize=(8, 6))\n",
    "plt.scatter(X_class_0[:, 0], X_class_0[:, 1], label=\"Class 0\", marker='o')\n",
    "plt.scatter(X_rest[:, 0], X_rest[:, 1], label=\"Rest\", marker='x')\n",
    "plt.xlabel('Feature 1')\n",
    "plt.ylabel('Feature 2')\n",
    "plt.legend()\n",
    "plt.title('Class 0 vs Rest')\n",
    "plt.show()\n",
    "\n"
   ]
  },
  {
   "cell_type": "markdown",
   "metadata": {},
   "source": [
    "# Affichage \n",
    "Graphe representant les acceptations selon les caracteristiques"
   ]
  },
  {
   "cell_type": "code",
   "execution_count": null,
   "metadata": {},
   "outputs": [],
   "source": []
  },
  {
   "cell_type": "markdown",
   "metadata": {},
   "source": [
    "# Partie 2: Réseaux de neurones\n",
    "Pour cette partie, nous choisissons une réseau simple:\n",
    "\n",
    "- une couche d'entrée avec 400 noeuds (20 x 20 pixels) + le biais\n",
    "- une couche cachée avec 25 noeuds\n",
    "- une couche de sortie avec 10 noeuds (nombre de classes)"
   ]
  },
  {
   "cell_type": "code",
   "execution_count": 13,
   "metadata": {},
   "outputs": [
    {
     "data": {
      "text/plain": [
       "(25, 401)"
      ]
     },
     "execution_count": 13,
     "metadata": {},
     "output_type": "execute_result"
    }
   ],
   "source": [
    "# poids de la couche 1\n",
    "W1 = np.genfromtxt('W1.csv', delimiter=',', dtype=float)\n",
    "W1.shape"
   ]
  },
  {
   "cell_type": "code",
   "execution_count": 14,
   "metadata": {},
   "outputs": [
    {
     "data": {
      "text/plain": [
       "(10, 26)"
      ]
     },
     "execution_count": 14,
     "metadata": {},
     "output_type": "execute_result"
    }
   ],
   "source": [
    "# poids de la couche 2\n",
    "W2 = np.genfromtxt('W2.csv', delimiter=',', dtype=float)\n",
    "W2.shape"
   ]
  },
  {
   "cell_type": "code",
   "execution_count": 15,
   "metadata": {},
   "outputs": [],
   "source": [
    "# adding the column of ones and stack it with data \n",
    "intercept=np.ones((data.shape[0],1))\n",
    "X=np.column_stack((intercept,data[:,:-1]))\n",
    "\n",
    "input_layer_size  = 400;  \n",
    "hidden_layer_size = 25;   \n",
    "num_labels = 10;"
   ]
  },
  {
   "cell_type": "markdown",
   "metadata": {},
   "source": [
    "**Prédiction**\n",
    "\n",
    "Appliquer une propagation en avant en utilisant les paramètres données pour prédir les classes de l'ensemble d'apprentissage.\n",
    "\n"
   ]
  },
  {
   "cell_type": "code",
   "execution_count": 16,
   "metadata": {},
   "outputs": [],
   "source": [
    "# we are gonna predict the  classes using the neural network method (with one hidden layer)\n",
    "# after retreiving the weights W1 , W2  the input layer nodes and the hidden layer nodes \n",
    "# after getting the input data \n",
    "# we use these as parameters to predict \n",
    "\n",
    "def predict (W1, W2, X):\n",
    "    \n",
    "    # appliquer une propagation en avant\n",
    "    # !--- n'oubliez pas d'appliquer la sigmoid à chaque couche afin d'avoir les probabilités ---! // calculer l'activation\n",
    "    \n",
    "    # prédire la classe en choisissant la probabilité maximale parmi les 10 noeuds de sortie\n",
    "    \n",
    "    # calcul des activation \n",
    "    h1_output = Sigmoid(np.dot(X, W1.T))\n",
    "\n",
    "    # stacking the intercept and h1_outputs (input layer computing ) and save it in h2_input \n",
    "    intercept = np.ones((X.shape[0],1))\n",
    "\n",
    "    h2_input = np.column_stack((intercept, h1_output))\n",
    "\n",
    "    # compute the h2_output using the h2_input and the data from the hidden layer \n",
    "    h2_output = Sigmoid(np.dot(h2_input, W2.T))\n",
    "\n",
    "    # predict the classes using the h2_output \n",
    "    y_pred = np.argmax(h2_output, axis=1)[..., np.newaxis]\n",
    "    \n",
    "    # some adjustments\n",
    "    y_pred = y_pred + 1\n",
    "    y_pred[y_pred==10] = 0\n",
    "\n",
    "    return y_pred"
   ]
  },
  {
   "cell_type": "code",
   "execution_count": 17,
   "metadata": {},
   "outputs": [
    {
     "data": {
      "text/plain": [
       "97.52"
      ]
     },
     "execution_count": 17,
     "metadata": {},
     "output_type": "execute_result"
    }
   ],
   "source": [
    "# calcul de precision = nombre de valeurs bien prédites (ici sur toute la base X)\n",
    "y_pred=predict(W1, W2, X)\n",
    "precision = np.mean(y==y_pred)*100\n",
    "precision"
   ]
  },
  {
   "cell_type": "markdown",
   "metadata": {},
   "source": [
    "# Vérification de l'implementation\n",
    "Comparer vos algorithmes à ceux de scikitlearn"
   ]
  },
  {
   "cell_type": "code",
   "execution_count": 18,
   "metadata": {},
   "outputs": [
    {
     "data": {
      "text/plain": [
       "96.24000000000001"
      ]
     },
     "execution_count": 18,
     "metadata": {},
     "output_type": "execute_result"
    }
   ],
   "source": [
    "# Initialisation du modèle de régression logistique  (regularisation utilise L2)\n",
    "# avec un nombre d'iterations 10000\n",
    "model = LogisticRegression(penalty=\"l2\", max_iter=10000)\n",
    "\n",
    "# Train the model using the fit function \n",
    "model.fit(X[:, 1:], y.squeeze())\n",
    "\n",
    "# get the probas of predictions of our model \n",
    "y_prob = model.predict_proba(X[:, 1:])\n",
    "\n",
    "# Sélection de la classe prédite pour chaque exemple en choisissant l'indice \n",
    "# de la classe avec la probabilité la plus élevée\n",
    "y_pred = np.argmax(y_prob, axis=1)[..., np.newaxis]\n",
    "\n",
    "# Calcul de la précision du modèle en comparant les classes prédites \n",
    "# ce qui va nous permettre de voir la difference entre le model implemente et le model predefini \n",
    "\n",
    "accuracy = np.mean(y_pred==y)*100\n",
    "accuracy"
   ]
  }
 ],
 "metadata": {
  "kernelspec": {
   "display_name": "Python 3 (ipykernel)",
   "language": "python",
   "name": "python3"
  },
  "language_info": {
   "codemirror_mode": {
    "name": "ipython",
    "version": 3
   },
   "file_extension": ".py",
   "mimetype": "text/x-python",
   "name": "python",
   "nbconvert_exporter": "python",
   "pygments_lexer": "ipython3",
   "version": "3.11.5"
  }
 },
 "nbformat": 4,
 "nbformat_minor": 2
}
